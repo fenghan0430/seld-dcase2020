{
 "cells": [
  {
   "cell_type": "code",
   "execution_count": 1,
   "metadata": {},
   "outputs": [],
   "source": [
    "import numpy as np\n",
    "import os"
   ]
  },
  {
   "cell_type": "code",
   "execution_count": 2,
   "metadata": {},
   "outputs": [],
   "source": [
    "# label_dir = \"/work_f/mic_dataset/feat_label/mic_dev_label\"\n",
    "# feat_dir = \"/work_f/mic_dataset/feat_label/mic_dev_norm\"\n",
    "# temp_lable = []\n",
    "# temp_feat = []"
   ]
  },
  {
   "cell_type": "code",
   "execution_count": 3,
   "metadata": {},
   "outputs": [],
   "source": [
    "# npy_files = [os.path.join(label_dir, f) for f in os.listdir(label_dir) if f.endswith('.npy')]\n",
    "# for file_path in npy_files:\n",
    "#     for l_row in np.load(file_path):\n",
    "#         temp_lable.append(l_row)\n",
    "\n",
    "# npy_files = [os.path.join(feat_dir, f) for f in os.listdir(feat_dir) if f.endswith('.npy')]\n",
    "# for file_path in npy_files:\n",
    "#     for f_row in np.load(file_path):\n",
    "#         temp_feat.append(f_row)"
   ]
  },
  {
   "cell_type": "code",
   "execution_count": 4,
   "metadata": {},
   "outputs": [],
   "source": [
    "# 首先新建两个矩阵，用来存数据\n",
    "# feat = np.zeros((len(temp_feat), 64 * 10)) # _nb_mel_bins=64, _nb_ch=10\n",
    "# label = np.zeros((len(temp_lable), 56)) # _label_len=56\n",
    "\n",
    "# feat = np.array(temp_feat)\n",
    "# label = np.array(temp_lable)\n",
    "# del temp_feat, temp_lable\n",
    "\n",
    "# print(f\"feat shape: {feat.shape}, label shape{label.shape}\")"
   ]
  },
  {
   "cell_type": "code",
   "execution_count": 5,
   "metadata": {},
   "outputs": [],
   "source": [
    "# feat = np.load(\"/work_f/seld-dcase2020/feat.npy\")\n",
    "# label = np.load(\"/work_f/seld-dcase2020/label.npy\")"
   ]
  },
  {
   "cell_type": "code",
   "execution_count": 6,
   "metadata": {},
   "outputs": [],
   "source": [
    "# feat = np.reshape(feat, (1800000, 64, 10))"
   ]
  },
  {
   "cell_type": "code",
   "execution_count": 7,
   "metadata": {},
   "outputs": [],
   "source": [
    "# def _split_in_seqs(data, _seq_len):\n",
    "#     \"\"\"这段代码定义了一个名为 _split_in_seqs 的函数，\n",
    "#     其主要目的是将输入的数据 data 按照指定的序列长度 _seq_len 进行切分。\n",
    "#     这个过程将确保所有切分后的序列长度都是一致的。\"\"\"\n",
    "#     if len(data.shape) == 1:\n",
    "#         if data.shape[0] % _seq_len:\n",
    "#             data = data[:-(data.shape[0] % _seq_len), :]\n",
    "#         data = data.reshape((data.shape[0] // _seq_len, _seq_len, 1))\n",
    "#     elif len(data.shape) == 2:\n",
    "#         if data.shape[0] % _seq_len:\n",
    "#             data = data[:-(data.shape[0] % _seq_len), :]\n",
    "#         data = data.reshape((data.shape[0] // _seq_len, _seq_len, data.shape[1]))\n",
    "#     elif len(data.shape) == 3:\n",
    "#         if data.shape[0] % _seq_len:\n",
    "#             data = data[:-(data.shape[0] % _seq_len), :, :]\n",
    "#         data = data.reshape((data.shape[0] // _seq_len, _seq_len, data.shape[1], data.shape[2]))\n",
    "#     else:\n",
    "#         print('ERROR: Unknown data dimensions: {}'.format(data.shape))\n",
    "#         exit()\n",
    "#     return data"
   ]
  },
  {
   "cell_type": "code",
   "execution_count": 8,
   "metadata": {},
   "outputs": [],
   "source": [
    "# feat = _split_in_seqs(feat, 300)"
   ]
  },
  {
   "cell_type": "code",
   "execution_count": 9,
   "metadata": {},
   "outputs": [],
   "source": [
    "# feat = np.transpose(feat, (0, 3, 1, 2))"
   ]
  },
  {
   "cell_type": "code",
   "execution_count": 10,
   "metadata": {},
   "outputs": [],
   "source": [
    "# label = _split_in_seqs(label, 60)"
   ]
  },
  {
   "cell_type": "code",
   "execution_count": 11,
   "metadata": {},
   "outputs": [],
   "source": [
    "# np.save(\"loaded_feat.npy\", feat)\n",
    "# np.save(\"loaded_label.npy\", label)"
   ]
  },
  {
   "cell_type": "code",
   "execution_count": 12,
   "metadata": {},
   "outputs": [],
   "source": [
    "# unique_classes={\n",
    "# 'alarm': 0,\n",
    "# 'baby': 1,\n",
    "# 'crash': 2,\n",
    "# 'dog': 3,\n",
    "# 'engine': 4,\n",
    "# 'female_scream': 5,\n",
    "# 'female_speech': 6,\n",
    "# 'fire': 7,\n",
    "# 'footsteps': 8,\n",
    "# 'knock': 9,\n",
    "# 'male_scream': 10,\n",
    "# 'male_speech': 11,\n",
    "# 'phone': 12,\n",
    "# 'piano': 13\n",
    "# }"
   ]
  },
  {
   "cell_type": "code",
   "execution_count": 18,
   "metadata": {},
   "outputs": [],
   "source": [
    "label = np.load(\"/work_f/seld-dcase2020/loaded_label.npy\")\n",
    "label = [label[:, :, :14],label] # 14是指有多少个类 len(unique_classes)"
   ]
  },
  {
   "cell_type": "code",
   "execution_count": 19,
   "metadata": {},
   "outputs": [
    {
     "name": "stdout",
     "output_type": "stream",
     "text": [
      "(6000, 60, 14)\n",
      "(6000, 60, 56)\n"
     ]
    }
   ],
   "source": [
    "for i in label:\n",
    "    print(i.shape)"
   ]
  },
  {
   "cell_type": "code",
   "execution_count": 15,
   "metadata": {},
   "outputs": [],
   "source": [
    "# feat = np.load(\"/work_f/seld-dcase2020/loaded_feat.npy\")"
   ]
  },
  {
   "cell_type": "code",
   "execution_count": 16,
   "metadata": {},
   "outputs": [],
   "source": [
    "# feat = np.transpose(feat, (0, 2, 3, 1))"
   ]
  },
  {
   "cell_type": "code",
   "execution_count": 17,
   "metadata": {},
   "outputs": [],
   "source": [
    "# feat.shape"
   ]
  },
  {
   "cell_type": "code",
   "execution_count": null,
   "metadata": {},
   "outputs": [],
   "source": []
  }
 ],
 "metadata": {
  "kernelspec": {
   "display_name": "Python 3",
   "language": "python",
   "name": "python3"
  },
  "language_info": {
   "codemirror_mode": {
    "name": "ipython",
    "version": 3
   },
   "file_extension": ".py",
   "mimetype": "text/x-python",
   "name": "python",
   "nbconvert_exporter": "python",
   "pygments_lexer": "ipython3",
   "version": "3.11.0rc1"
  }
 },
 "nbformat": 4,
 "nbformat_minor": 2
}
